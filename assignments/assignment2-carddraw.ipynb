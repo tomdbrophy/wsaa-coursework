{
 "cells": [
  {
   "cell_type": "markdown",
   "metadata": {},
   "source": [
    "# Assignment 2 - Deck of Cards\n",
    "___"
   ]
  },
  {
   "cell_type": "code",
   "execution_count": 17,
   "metadata": {},
   "outputs": [],
   "source": [
    "import requests\n",
    "import json"
   ]
  },
  {
   "cell_type": "code",
   "execution_count": 18,
   "metadata": {},
   "outputs": [
    {
     "name": "stdout",
     "output_type": "stream",
     "text": [
      "<Response [200]>\n",
      "9he1mn2nfflj\n"
     ]
    }
   ],
   "source": [
    "# Set the number of decks and get the deck id\n",
    "num_decks = 'https://deckofcardsapi.com/api/deck/new/shuffle/?deck_count=1'\n",
    "deck_details = requests.get(num_decks)\n",
    "print(deck_details)\n",
    "deck_details = deck_details.json()\n",
    "deck_id = deck_details['deck_id']\n",
    "print(deck_id)"
   ]
  },
  {
   "cell_type": "code",
   "execution_count": 19,
   "metadata": {},
   "outputs": [
    {
     "name": "stdout",
     "output_type": "stream",
     "text": [
      "<Response [200]>\n",
      "{'success': True, 'deck_id': '9he1mn2nfflj', 'cards': [{'code': '6D', 'image': 'https://deckofcardsapi.com/static/img/6D.png', 'images': {'svg': 'https://deckofcardsapi.com/static/img/6D.svg', 'png': 'https://deckofcardsapi.com/static/img/6D.png'}, 'value': '6', 'suit': 'DIAMONDS'}, {'code': 'JD', 'image': 'https://deckofcardsapi.com/static/img/JD.png', 'images': {'svg': 'https://deckofcardsapi.com/static/img/JD.svg', 'png': 'https://deckofcardsapi.com/static/img/JD.png'}, 'value': 'JACK', 'suit': 'DIAMONDS'}, {'code': '0D', 'image': 'https://deckofcardsapi.com/static/img/0D.png', 'images': {'svg': 'https://deckofcardsapi.com/static/img/0D.svg', 'png': 'https://deckofcardsapi.com/static/img/0D.png'}, 'value': '10', 'suit': 'DIAMONDS'}, {'code': '4S', 'image': 'https://deckofcardsapi.com/static/img/4S.png', 'images': {'svg': 'https://deckofcardsapi.com/static/img/4S.svg', 'png': 'https://deckofcardsapi.com/static/img/4S.png'}, 'value': '4', 'suit': 'SPADES'}, {'code': '5C', 'image': 'https://deckofcardsapi.com/static/img/5C.png', 'images': {'svg': 'https://deckofcardsapi.com/static/img/5C.svg', 'png': 'https://deckofcardsapi.com/static/img/5C.png'}, 'value': '5', 'suit': 'CLUBS'}], 'remaining': 47}\n"
     ]
    },
    {
     "data": {
      "text/plain": [
       "<function print(*args, sep=' ', end='\\n', file=None, flush=False)>"
      ]
     },
     "execution_count": 19,
     "metadata": {},
     "output_type": "execute_result"
    }
   ],
   "source": [
    "# Draw 5 cards from the deck\n",
    "draw_card = f'https://deckofcardsapi.com/api/deck/{deck_id}/draw/?count=5'\n",
    "response = requests.get(draw_card)\n",
    "print(response)\n",
    "response = response.json()\n",
    "print(response)\n",
    "cards = response['cards']\n",
    "print"
   ]
  },
  {
   "cell_type": "code",
   "execution_count": 20,
   "metadata": {},
   "outputs": [
    {
     "name": "stdout",
     "output_type": "stream",
     "text": [
      "6 DIAMONDS\n",
      "JACK DIAMONDS\n",
      "10 DIAMONDS\n",
      "4 SPADES\n",
      "5 CLUBS\n"
     ]
    }
   ],
   "source": [
    "# List value and suit of each card\n",
    "for i in range(5):\n",
    "    print(cards[i]['value'], cards[i]['suit'])\n"
   ]
  }
 ],
 "metadata": {
  "kernelspec": {
   "display_name": "base",
   "language": "python",
   "name": "python3"
  },
  "language_info": {
   "codemirror_mode": {
    "name": "ipython",
    "version": 3
   },
   "file_extension": ".py",
   "mimetype": "text/x-python",
   "name": "python",
   "nbconvert_exporter": "python",
   "pygments_lexer": "ipython3",
   "version": "3.11.5"
  }
 },
 "nbformat": 4,
 "nbformat_minor": 2
}
