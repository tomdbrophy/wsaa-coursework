{
 "cells": [
  {
   "cell_type": "markdown",
   "metadata": {},
   "source": [
    "# Assignment 2 - Deck of Cards\n",
    "___"
   ]
  },
  {
   "cell_type": "code",
   "execution_count": 1,
   "metadata": {},
   "outputs": [],
   "source": [
    "import requests\n",
    "import json"
   ]
  },
  {
   "cell_type": "code",
   "execution_count": 2,
   "metadata": {},
   "outputs": [
    {
     "name": "stdout",
     "output_type": "stream",
     "text": [
      "<Response [200]>\n",
      "p9glotgqmncr\n"
     ]
    }
   ],
   "source": [
    "# Set the number of decks and get the deck id\n",
    "num_decks = 'https://deckofcardsapi.com/api/deck/new/shuffle/?deck_count=1'\n",
    "deck_details = requests.get(num_decks)\n",
    "print(deck_details)\n",
    "deck_details = deck_details.json()\n",
    "deck_id = deck_details['deck_id']\n",
    "print(deck_id)"
   ]
  },
  {
   "cell_type": "code",
   "execution_count": 3,
   "metadata": {},
   "outputs": [
    {
     "name": "stdout",
     "output_type": "stream",
     "text": [
      "<Response [200]>\n",
      "{'success': True, 'deck_id': 'p9glotgqmncr', 'cards': [{'code': '8D', 'image': 'https://deckofcardsapi.com/static/img/8D.png', 'images': {'svg': 'https://deckofcardsapi.com/static/img/8D.svg', 'png': 'https://deckofcardsapi.com/static/img/8D.png'}, 'value': '8', 'suit': 'DIAMONDS'}, {'code': '8C', 'image': 'https://deckofcardsapi.com/static/img/8C.png', 'images': {'svg': 'https://deckofcardsapi.com/static/img/8C.svg', 'png': 'https://deckofcardsapi.com/static/img/8C.png'}, 'value': '8', 'suit': 'CLUBS'}, {'code': 'AH', 'image': 'https://deckofcardsapi.com/static/img/AH.png', 'images': {'svg': 'https://deckofcardsapi.com/static/img/AH.svg', 'png': 'https://deckofcardsapi.com/static/img/AH.png'}, 'value': 'ACE', 'suit': 'HEARTS'}, {'code': '9H', 'image': 'https://deckofcardsapi.com/static/img/9H.png', 'images': {'svg': 'https://deckofcardsapi.com/static/img/9H.svg', 'png': 'https://deckofcardsapi.com/static/img/9H.png'}, 'value': '9', 'suit': 'HEARTS'}, {'code': '6S', 'image': 'https://deckofcardsapi.com/static/img/6S.png', 'images': {'svg': 'https://deckofcardsapi.com/static/img/6S.svg', 'png': 'https://deckofcardsapi.com/static/img/6S.png'}, 'value': '6', 'suit': 'SPADES'}], 'remaining': 47}\n"
     ]
    },
    {
     "data": {
      "text/plain": [
       "<function print(*args, sep=' ', end='\\n', file=None, flush=False)>"
      ]
     },
     "execution_count": 3,
     "metadata": {},
     "output_type": "execute_result"
    }
   ],
   "source": [
    "# Draw 5 cards from the deck\n",
    "draw_card = f'https://deckofcardsapi.com/api/deck/{deck_id}/draw/?count=5'\n",
    "response = requests.get(draw_card)\n",
    "print(response)\n",
    "response = response.json()\n",
    "print(response)\n",
    "cards = response['cards']\n",
    "print"
   ]
  },
  {
   "cell_type": "code",
   "execution_count": 4,
   "metadata": {},
   "outputs": [
    {
     "name": "stdout",
     "output_type": "stream",
     "text": [
      "8 DIAMONDS\n",
      "8 CLUBS\n",
      "ACE HEARTS\n",
      "9 HEARTS\n",
      "6 SPADES\n"
     ]
    }
   ],
   "source": [
    "# List value and suit of each card\n",
    "for i in range(5):\n",
    "    print(cards[i]['value'], cards[i]['suit'])\n"
   ]
  }
 ],
 "metadata": {
  "kernelspec": {
   "display_name": "base",
   "language": "python",
   "name": "python3"
  },
  "language_info": {
   "codemirror_mode": {
    "name": "ipython",
    "version": 3
   },
   "file_extension": ".py",
   "mimetype": "text/x-python",
   "name": "python",
   "nbconvert_exporter": "python",
   "pygments_lexer": "ipython3",
   "version": "3.11.5"
  }
 },
 "nbformat": 4,
 "nbformat_minor": 2
}
